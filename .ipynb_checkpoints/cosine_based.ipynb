{
 "cells": [
  {
   "cell_type": "markdown",
   "metadata": {},
   "source": [
    "# Content Cosine Similarity \n",
    "- Requires an Actual Movie title to obtain a set of recommended movies through Tfidf vectorisation\n",
    "- This can be used when the user may watch a film or has a list of films they may have enjoyed"
   ]
  },
  {
   "cell_type": "code",
   "execution_count": 10,
   "metadata": {},
   "outputs": [],
   "source": [
    "# Obtain Movies Variable\n",
    "%store -r movies"
   ]
  },
  {
   "cell_type": "markdown",
   "metadata": {},
   "source": [
    "- Movies variable obtained from 'preprocessing.ipynb'"
   ]
  },
  {
   "cell_type": "code",
   "execution_count": 11,
   "metadata": {},
   "outputs": [
    {
     "data": {
      "text/plain": [
       "0       In the 22nd century, a paraplegic Marine is di...\n",
       "1       Captain Barbossa, long believed to be dead, ha...\n",
       "2       A cryptic message from Bond’s past sends him o...\n",
       "3       Following the death of District Attorney Harve...\n",
       "4       John Carter is a war-weary, former military ca...\n",
       "                              ...                        \n",
       "4804    El Mariachi just wants to play his guitar and ...\n",
       "4805    A newlywed couple's honeymoon is upended by th...\n",
       "4806    \"Signed, Sealed, Delivered\" introduces a dedic...\n",
       "4807    When ambitious New York attorney Sam is sent t...\n",
       "4808    Ever since the second grade when he first saw ...\n",
       "Name: overview, Length: 4801, dtype: object"
      ]
     },
     "execution_count": 11,
     "metadata": {},
     "output_type": "execute_result"
    }
   ],
   "source": [
    "movies['overview']"
   ]
  },
  {
   "cell_type": "markdown",
   "metadata": {},
   "source": [
    "- overview column check"
   ]
  },
  {
   "cell_type": "code",
   "execution_count": 12,
   "metadata": {},
   "outputs": [
    {
     "name": "stdout",
     "output_type": "stream",
     "text": [
      "(4801, 20970)\n"
     ]
    }
   ],
   "source": [
    "from sklearn.feature_extraction.text import TfidfVectorizer\n",
    "\n",
    "# Remove all english stop words i.e., and, a, an\n",
    "tfidf = TfidfVectorizer(stop_words='english')\n",
    "\n",
    "# Convert 'overview' column to string type and fill missing values\n",
    "movies['overview'] = movies['overview'].astype(str).fillna('')\n",
    "\n",
    "tfidf_matrix = tfidf.fit_transform(movies['overview'])\n",
    "\n",
    "print(tfidf_matrix.shape)\n"
   ]
  },
  {
   "cell_type": "markdown",
   "metadata": {},
   "source": [
    "- Stop words are unusual information in this so therefore they are removed from the TF-IDF\n",
    "- Therefore the importance of terms are remmained\n",
    "- Handling missing values to prevent errors during visualisation \n",
    "- ((4801, 20970)) - 4801 rows and 20970 columns"
   ]
  },
  {
   "cell_type": "code",
   "execution_count": 13,
   "metadata": {},
   "outputs": [],
   "source": [
    "from sklearn.metrics.pairwise import linear_kernel\n",
    "import pandas as pd\n",
    "\n",
    "consine_sim = linear_kernel(tfidf_matrix, tfidf_matrix)\n",
    "\n",
    "indices = pd.Series(movies.index, index=movies['title']).drop_duplicates()"
   ]
  },
  {
   "cell_type": "markdown",
   "metadata": {},
   "source": [
    "- linear_kernel is used to compute the cosine similarity between each pair of movie overviews represented by the TF-IDF matrux\n",
    "- cosine_similarity between movie 'i' and 'j'\n",
    "- indices are set to movies and titles consist of an index"
   ]
  },
  {
   "cell_type": "code",
   "execution_count": 14,
   "metadata": {},
   "outputs": [
    {
     "data": {
      "text/plain": [
       "65                              The Dark Knight\n",
       "299                              Batman Forever\n",
       "428                              Batman Returns\n",
       "1362                                     Batman\n",
       "1363                                     Batman\n",
       "3861    Batman: The Dark Knight Returns, Part 2\n",
       "2513                                  Slow Burn\n",
       "119                               Batman Begins\n",
       "9            Batman v Superman: Dawn of Justice\n",
       "1184                                        JFK\n",
       "Name: title, dtype: object"
      ]
     },
     "execution_count": 14,
     "metadata": {},
     "output_type": "execute_result"
    }
   ],
   "source": [
    "def get_recommendations(title):\n",
    "    # Get the index of the movie that matches the title\n",
    "    idx = indices[title]\n",
    "\n",
    "    # Get the pairwsie similarity scores of all movies with that movie\n",
    "    sim_scores = list(enumerate(consine_sim[idx]))\n",
    "\n",
    "    # Sort the movies based on the similarity scores\n",
    "    sim_scores = sorted(sim_scores, key=lambda x: x[1], reverse=True)\n",
    "\n",
    "    # Get the scores of the 10 most similar movies\n",
    "    sim_scores = sim_scores[1:11]\n",
    "\n",
    "    # Get the movie indices\n",
    "    movie_indices = [i[0] for i in sim_scores]\n",
    "\n",
    "    # Return the top 10 most similar movies\n",
    "    return movies['title'].iloc[movie_indices]\n",
    "\n",
    "get_recommendations('The Dark Knight Rises')"
   ]
  },
  {
   "cell_type": "markdown",
   "metadata": {},
   "source": [
    "- retrieves the index of the movie that matches the input title by querying indices. \n",
    "- this index is then used to retrieve the similarity scores of the target movie with all other movies\n",
    "- sim_scores is the variable that retrieves the cosine similarity scores between the target and other movies\n",
    "- this is then sorted by similarity and the top ten scores are selected"
   ]
  },
  {
   "cell_type": "code",
   "execution_count": 15,
   "metadata": {},
   "outputs": [
    {
     "data": {
      "text/plain": [
       "2634      Blood and Chocolate\n",
       "2035               Underworld\n",
       "273     Gone in Sixty Seconds\n",
       "2285              Bad Teacher\n",
       "990               Dream House\n",
       "3580                Clerks II\n",
       "1135          Red Riding Hood\n",
       "1436                   Cursed\n",
       "135               The Wolfman\n",
       "3178              Boiler Room\n",
       "Name: title, dtype: object"
      ]
     },
     "execution_count": 15,
     "metadata": {},
     "output_type": "execute_result"
    }
   ],
   "source": [
    "get_recommendations('Wolf')"
   ]
  },
  {
   "cell_type": "code",
   "execution_count": 16,
   "metadata": {},
   "outputs": [
    {
     "data": {
      "text/plain": [
       "3881                                  The Opposite Sex\n",
       "263                        Around the World in 80 Days\n",
       "4160    A Funny Thing Happened on the Way to the Forum\n",
       "1837                             Bridget Jones's Diary\n",
       "2410                                      My Fair Lady\n",
       "1776                                     Money Monster\n",
       "2251                                The Brothers Bloom\n",
       "3729                                           Airlift\n",
       "1200                                 Horrible Bosses 2\n",
       "2550                            Not Another Teen Movie\n",
       "Name: title, dtype: object"
      ]
     },
     "execution_count": 16,
     "metadata": {},
     "output_type": "execute_result"
    }
   ],
   "source": [
    "get_recommendations('Boiler Room')"
   ]
  }
 ],
 "metadata": {
  "kernelspec": {
   "display_name": "base",
   "language": "python",
   "name": "python3"
  },
  "language_info": {
   "codemirror_mode": {
    "name": "ipython",
    "version": 3
   },
   "file_extension": ".py",
   "mimetype": "text/x-python",
   "name": "python",
   "nbconvert_exporter": "python",
   "pygments_lexer": "ipython3",
   "version": "3.9.13"
  }
 },
 "nbformat": 4,
 "nbformat_minor": 2
}
