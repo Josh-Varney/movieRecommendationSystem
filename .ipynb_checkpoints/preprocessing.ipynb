{
 "cells": [
  {
   "cell_type": "markdown",
   "id": "35834bdf",
   "metadata": {},
   "source": [
    "# Preprocessing \n",
    "- Import Pandas for CSV reading and manipulation of dataset \n",
    "- Investigate dataset features \n",
    "- Conversion of column data to reduce dataset size \n",
    "- Combine datasets for recommendation system\n",
    "- Find initial important and prioritised features for the system"
   ]
  },
  {
   "cell_type": "code",
   "execution_count": 1,
   "id": "221c8827",
   "metadata": {},
   "outputs": [],
   "source": [
    "import pandas as pd\n",
    "\n",
    "# Using double backslashes to decode (instead of unicode escape sequence)\n",
    "train_movies_df = pd.read_csv(\"C:\\\\Users\\\\Jrv12\\\\Desktop\\\\Recommendation System\\\\recommendationSystem\\\\datasets\\\\tmdb_5000_movies.csv\")\n",
    "train_credits_df = pd.read_csv(\"C:\\\\Users\\\\Jrv12\\\\Desktop\\\\Recommendation System\\\\recommendationSystem\\\\datasets\\\\tmdb_5000_credits.csv\")"
   ]
  },
  {
   "cell_type": "markdown",
   "id": "13ee066d",
   "metadata": {},
   "source": [
    "# Merge Feature \n",
    "- Attempt to find most common feature to merge datasets \n",
    "- This simplifies the dataset manipulation process\n",
    "- Furthermore, analysis can occur as a whole\n",
    "- Initial visualisation "
   ]
  },
  {
   "cell_type": "code",
   "execution_count": 2,
   "id": "6e114bfc",
   "metadata": {},
   "outputs": [
    {
     "name": "stdout",
     "output_type": "stream",
     "text": [
      "      budget                                             genres  \\\n",
      "0  237000000  [{\"id\": 28, \"name\": \"Action\"}, {\"id\": 12, \"nam...   \n",
      "1  300000000  [{\"id\": 12, \"name\": \"Adventure\"}, {\"id\": 14, \"...   \n",
      "2  245000000  [{\"id\": 28, \"name\": \"Action\"}, {\"id\": 12, \"nam...   \n",
      "3  250000000  [{\"id\": 28, \"name\": \"Action\"}, {\"id\": 80, \"nam...   \n",
      "4  260000000  [{\"id\": 28, \"name\": \"Action\"}, {\"id\": 12, \"nam...   \n",
      "\n",
      "                                       homepage      id  \\\n",
      "0                   http://www.avatarmovie.com/   19995   \n",
      "1  http://disney.go.com/disneypictures/pirates/     285   \n",
      "2   http://www.sonypictures.com/movies/spectre/  206647   \n",
      "3            http://www.thedarkknightrises.com/   49026   \n",
      "4          http://movies.disney.com/john-carter   49529   \n",
      "\n",
      "                                            keywords original_language  \\\n",
      "0  [{\"id\": 1463, \"name\": \"culture clash\"}, {\"id\":...                en   \n",
      "1  [{\"id\": 270, \"name\": \"ocean\"}, {\"id\": 726, \"na...                en   \n",
      "2  [{\"id\": 470, \"name\": \"spy\"}, {\"id\": 818, \"name...                en   \n",
      "3  [{\"id\": 849, \"name\": \"dc comics\"}, {\"id\": 853,...                en   \n",
      "4  [{\"id\": 818, \"name\": \"based on novel\"}, {\"id\":...                en   \n",
      "\n",
      "                             original_title  \\\n",
      "0                                    Avatar   \n",
      "1  Pirates of the Caribbean: At World's End   \n",
      "2                                   Spectre   \n",
      "3                     The Dark Knight Rises   \n",
      "4                               John Carter   \n",
      "\n",
      "                                            overview  popularity  \\\n",
      "0  In the 22nd century, a paraplegic Marine is di...  150.437577   \n",
      "1  Captain Barbossa, long believed to be dead, ha...  139.082615   \n",
      "2  A cryptic message from Bond’s past sends him o...  107.376788   \n",
      "3  Following the death of District Attorney Harve...  112.312950   \n",
      "4  John Carter is a war-weary, former military ca...   43.926995   \n",
      "\n",
      "                                production_companies  \\\n",
      "0  [{\"name\": \"Ingenious Film Partners\", \"id\": 289...   \n",
      "1  [{\"name\": \"Walt Disney Pictures\", \"id\": 2}, {\"...   \n",
      "2  [{\"name\": \"Columbia Pictures\", \"id\": 5}, {\"nam...   \n",
      "3  [{\"name\": \"Legendary Pictures\", \"id\": 923}, {\"...   \n",
      "4        [{\"name\": \"Walt Disney Pictures\", \"id\": 2}]   \n",
      "\n",
      "                                production_countries release_date     revenue  \\\n",
      "0  [{\"iso_3166_1\": \"US\", \"name\": \"United States o...   2009-12-10  2787965087   \n",
      "1  [{\"iso_3166_1\": \"US\", \"name\": \"United States o...   2007-05-19   961000000   \n",
      "2  [{\"iso_3166_1\": \"GB\", \"name\": \"United Kingdom\"...   2015-10-26   880674609   \n",
      "3  [{\"iso_3166_1\": \"US\", \"name\": \"United States o...   2012-07-16  1084939099   \n",
      "4  [{\"iso_3166_1\": \"US\", \"name\": \"United States o...   2012-03-07   284139100   \n",
      "\n",
      "   runtime                                   spoken_languages    status  \\\n",
      "0    162.0  [{\"iso_639_1\": \"en\", \"name\": \"English\"}, {\"iso...  Released   \n",
      "1    169.0           [{\"iso_639_1\": \"en\", \"name\": \"English\"}]  Released   \n",
      "2    148.0  [{\"iso_639_1\": \"fr\", \"name\": \"Fran\\u00e7ais\"},...  Released   \n",
      "3    165.0           [{\"iso_639_1\": \"en\", \"name\": \"English\"}]  Released   \n",
      "4    132.0           [{\"iso_639_1\": \"en\", \"name\": \"English\"}]  Released   \n",
      "\n",
      "                                          tagline  \\\n",
      "0                     Enter the World of Pandora.   \n",
      "1  At the end of the world, the adventure begins.   \n",
      "2                           A Plan No One Escapes   \n",
      "3                                 The Legend Ends   \n",
      "4            Lost in our world, found in another.   \n",
      "\n",
      "                                      title  vote_average  vote_count  \n",
      "0                                    Avatar           7.2       11800  \n",
      "1  Pirates of the Caribbean: At World's End           6.9        4500  \n",
      "2                                   Spectre           6.3        4466  \n",
      "3                     The Dark Knight Rises           7.6        9106  \n",
      "4                               John Carter           6.1        2124  \n",
      "   movie_id                                     title  \\\n",
      "0     19995                                    Avatar   \n",
      "1       285  Pirates of the Caribbean: At World's End   \n",
      "2    206647                                   Spectre   \n",
      "3     49026                     The Dark Knight Rises   \n",
      "4     49529                               John Carter   \n",
      "\n",
      "                                                cast  \\\n",
      "0  [{\"cast_id\": 242, \"character\": \"Jake Sully\", \"...   \n",
      "1  [{\"cast_id\": 4, \"character\": \"Captain Jack Spa...   \n",
      "2  [{\"cast_id\": 1, \"character\": \"James Bond\", \"cr...   \n",
      "3  [{\"cast_id\": 2, \"character\": \"Bruce Wayne / Ba...   \n",
      "4  [{\"cast_id\": 5, \"character\": \"John Carter\", \"c...   \n",
      "\n",
      "                                                crew  \n",
      "0  [{\"credit_id\": \"52fe48009251416c750aca23\", \"de...  \n",
      "1  [{\"credit_id\": \"52fe4232c3a36847f800b579\", \"de...  \n",
      "2  [{\"credit_id\": \"54805967c3a36829b5002c41\", \"de...  \n",
      "3  [{\"credit_id\": \"52fe4781c3a36847f81398c3\", \"de...  \n",
      "4  [{\"credit_id\": \"52fe479ac3a36847f813eaa3\", \"de...  \n"
     ]
    }
   ],
   "source": [
    "def printHead():\n",
    "    print(train_movies_df.head(5))\n",
    "    print(train_credits_df.head(5))\n",
    "    \n",
    "printHead()"
   ]
  },
  {
   "cell_type": "code",
   "execution_count": 3,
   "id": "71b123b3",
   "metadata": {},
   "outputs": [
    {
     "name": "stdout",
     "output_type": "stream",
     "text": [
      "Index(['budget', 'genres', 'homepage', 'id', 'keywords', 'original_language',\n",
      "       'original_title', 'overview', 'popularity', 'production_companies',\n",
      "       'production_countries', 'release_date', 'revenue', 'runtime',\n",
      "       'spoken_languages', 'status', 'tagline', 'title', 'vote_average',\n",
      "       'vote_count'],\n",
      "      dtype='object')\n"
     ]
    }
   ],
   "source": [
    "print(train_movies_df.columns)"
   ]
  },
  {
   "cell_type": "code",
   "execution_count": 4,
   "id": "3841ff0d",
   "metadata": {},
   "outputs": [
    {
     "name": "stdout",
     "output_type": "stream",
     "text": [
      "Index(['movie_id', 'title', 'cast', 'crew'], dtype='object')\n"
     ]
    }
   ],
   "source": [
    "print(train_credits_df.columns)"
   ]
  },
  {
   "cell_type": "code",
   "execution_count": 5,
   "id": "42fe9577",
   "metadata": {},
   "outputs": [
    {
     "name": "stdout",
     "output_type": "stream",
     "text": [
      "0                                      Avatar\n",
      "1    Pirates of the Caribbean: At World's End\n",
      "2                                     Spectre\n",
      "3                       The Dark Knight Rises\n",
      "4                                 John Carter\n",
      "Name: title, dtype: object\n",
      "0                                      Avatar\n",
      "1    Pirates of the Caribbean: At World's End\n",
      "2                                     Spectre\n",
      "3                       The Dark Knight Rises\n",
      "4                                 John Carter\n",
      "Name: title, dtype: object\n"
     ]
    }
   ],
   "source": [
    "# Find similar column to attempt merge \n",
    "print(train_movies_df.head(5)[\"title\"])\n",
    "print(train_credits_df.head(5)[\"title\"])"
   ]
  },
  {
   "cell_type": "markdown",
   "id": "b7435c13",
   "metadata": {},
   "source": [
    "- From face-value the dataset can be combined on the title as a unique feature in both datasets.\n",
    "- A negative of this action could be duplicate titles which will be required to be checked.\n",
    "- Furthermore, information may be lost if cannot merge the datasets on a unique column."
   ]
  },
  {
   "cell_type": "code",
   "execution_count": 6,
   "id": "eb570467",
   "metadata": {},
   "outputs": [
    {
     "name": "stdout",
     "output_type": "stream",
     "text": [
      "Index(['budget', 'genres', 'homepage', 'id', 'keywords', 'original_language',\n",
      "       'original_title', 'overview', 'popularity', 'production_companies',\n",
      "       'production_countries', 'release_date', 'revenue', 'runtime',\n",
      "       'spoken_languages', 'status', 'tagline', 'title', 'vote_average',\n",
      "       'vote_count', 'movie_id', 'cast', 'crew'],\n",
      "      dtype='object')\n"
     ]
    }
   ],
   "source": [
    "# Merge datasets based on title information\n",
    "movies = train_movies_df.merge(train_credits_df, on =\"title\")\n",
    "print(movies.columns)"
   ]
  },
  {
   "cell_type": "markdown",
   "id": "74afcc5c",
   "metadata": {},
   "source": [
    "- Successful merge of information as shown above"
   ]
  },
  {
   "cell_type": "code",
   "execution_count": 7,
   "id": "d4100613",
   "metadata": {},
   "outputs": [
    {
     "name": "stdout",
     "output_type": "stream",
     "text": [
      "              budget                         genres  \\\n",
      "count   4.809000e+03                           4809   \n",
      "unique           NaN                           1175   \n",
      "top              NaN  [{\"id\": 18, \"name\": \"Drama\"}]   \n",
      "freq             NaN                            372   \n",
      "mean    2.902780e+07                            NaN   \n",
      "std     4.070473e+07                            NaN   \n",
      "min     0.000000e+00                            NaN   \n",
      "25%     7.800000e+05                            NaN   \n",
      "50%     1.500000e+07                            NaN   \n",
      "75%     4.000000e+07                            NaN   \n",
      "max     3.800000e+08                            NaN   \n",
      "\n",
      "                                 homepage             id keywords  \\\n",
      "count                                1713    4809.000000     4809   \n",
      "unique                               1691            NaN     4222   \n",
      "top     http://www.missionimpossible.com/            NaN       []   \n",
      "freq                                    4            NaN      412   \n",
      "mean                                  NaN   57120.571429      NaN   \n",
      "std                                   NaN   88653.369849      NaN   \n",
      "min                                   NaN       5.000000      NaN   \n",
      "25%                                   NaN    9012.000000      NaN   \n",
      "50%                                   NaN   14624.000000      NaN   \n",
      "75%                                   NaN   58595.000000      NaN   \n",
      "max                                   NaN  459488.000000      NaN   \n",
      "\n",
      "       original_language   original_title  \\\n",
      "count               4809             4809   \n",
      "unique                37             4801   \n",
      "top                   en  Out of the Blue   \n",
      "freq                4510                4   \n",
      "mean                 NaN              NaN   \n",
      "std                  NaN              NaN   \n",
      "min                  NaN              NaN   \n",
      "25%                  NaN              NaN   \n",
      "50%                  NaN              NaN   \n",
      "75%                  NaN              NaN   \n",
      "max                  NaN              NaN   \n",
      "\n",
      "                                                 overview   popularity  \\\n",
      "count                                                4806  4809.000000   \n",
      "unique                                               4800          NaN   \n",
      "top     Gang-du is a dim-witted man working at his fat...          NaN   \n",
      "freq                                                    2          NaN   \n",
      "mean                                                  NaN    21.491664   \n",
      "std                                                   NaN    31.803366   \n",
      "min                                                   NaN     0.000000   \n",
      "25%                                                   NaN     4.667230   \n",
      "50%                                                   NaN    12.921594   \n",
      "75%                                                   NaN    28.350529   \n",
      "max                                                   NaN   875.581305   \n",
      "\n",
      "       production_companies  ...      runtime  \\\n",
      "count                  4809  ...  4807.000000   \n",
      "unique                 3697  ...          NaN   \n",
      "top                      []  ...          NaN   \n",
      "freq                    352  ...          NaN   \n",
      "mean                    NaN  ...   106.882255   \n",
      "std                     NaN  ...    22.602535   \n",
      "min                     NaN  ...     0.000000   \n",
      "25%                     NaN  ...    94.000000   \n",
      "50%                     NaN  ...   103.000000   \n",
      "75%                     NaN  ...   118.000000   \n",
      "max                     NaN  ...   338.000000   \n",
      "\n",
      "                                spoken_languages    status  \\\n",
      "count                                       4809      4809   \n",
      "unique                                       544         3   \n",
      "top     [{\"iso_639_1\": \"en\", \"name\": \"English\"}]  Released   \n",
      "freq                                        3175      4801   \n",
      "mean                                         NaN       NaN   \n",
      "std                                          NaN       NaN   \n",
      "min                                          NaN       NaN   \n",
      "25%                                          NaN       NaN   \n",
      "50%                                          NaN       NaN   \n",
      "75%                                          NaN       NaN   \n",
      "max                                          NaN       NaN   \n",
      "\n",
      "                       tagline     title vote_average    vote_count  \\\n",
      "count                     3965      4809  4809.000000   4809.000000   \n",
      "unique                    3944      4800          NaN           NaN   \n",
      "top     Based on a true story.  The Host          NaN           NaN   \n",
      "freq                         3         4          NaN           NaN   \n",
      "mean                       NaN       NaN     6.092514    690.331670   \n",
      "std                        NaN       NaN     1.193989   1234.187111   \n",
      "min                        NaN       NaN     0.000000      0.000000   \n",
      "25%                        NaN       NaN     5.600000     54.000000   \n",
      "50%                        NaN       NaN     6.200000    235.000000   \n",
      "75%                        NaN       NaN     6.800000    737.000000   \n",
      "max                        NaN       NaN    10.000000  13752.000000   \n",
      "\n",
      "             movie_id  cast  crew  \n",
      "count     4809.000000  4809  4809  \n",
      "unique            NaN  4761  4776  \n",
      "top               NaN    []    []  \n",
      "freq              NaN    43    28  \n",
      "mean     57120.571429   NaN   NaN  \n",
      "std      88653.369849   NaN   NaN  \n",
      "min          5.000000   NaN   NaN  \n",
      "25%       9012.000000   NaN   NaN  \n",
      "50%      14624.000000   NaN   NaN  \n",
      "75%      58595.000000   NaN   NaN  \n",
      "max     459488.000000   NaN   NaN  \n",
      "\n",
      "[11 rows x 23 columns]\n"
     ]
    }
   ],
   "source": [
    "# Show combination of datasets\n",
    "def printStats():\n",
    "    print(movies.describe(include='all'))\n",
    "printStats()"
   ]
  },
  {
   "cell_type": "markdown",
   "id": "543ef4ce",
   "metadata": {},
   "source": [
    "# Null Column Removal\n",
    "- Find null column data and remove or replace with relevant information \n",
    "- As shown below, homepage, overview, tagline, release_date, runtime consist of null information\n",
    "\n",
    "- Null String information can be replaced easily, categorising all null columns with a similar replacement for identification \n",
    "- Null Int data is replaced by a -1 column for an unknown category \n",
    "\n",
    "- Identification of these data categories in the future is therefore easier due to a same column item. Furthermore, this prevents issues with analysis and visualisation."
   ]
  },
  {
   "cell_type": "code",
   "execution_count": 8,
   "id": "0ebb654d",
   "metadata": {},
   "outputs": [
    {
     "name": "stdout",
     "output_type": "stream",
     "text": [
      "budget                     0\n",
      "genres                     0\n",
      "homepage                3096\n",
      "id                         0\n",
      "keywords                   0\n",
      "original_language          0\n",
      "original_title             0\n",
      "overview                   3\n",
      "popularity                 0\n",
      "production_companies       0\n",
      "production_countries       0\n",
      "release_date               1\n",
      "revenue                    0\n",
      "runtime                    2\n",
      "spoken_languages           0\n",
      "status                     0\n",
      "tagline                  844\n",
      "title                      0\n",
      "vote_average               0\n",
      "vote_count                 0\n",
      "movie_id                   0\n",
      "cast                       0\n",
      "crew                       0\n",
      "dtype: int64\n"
     ]
    }
   ],
   "source": [
    "# Helps preprocessing elements \n",
    "def printMoviesIsNull():\n",
    "    print(movies.isnull().sum())\n",
    "printMoviesIsNull()"
   ]
  },
  {
   "cell_type": "code",
   "execution_count": 9,
   "id": "0c0c1ca6",
   "metadata": {},
   "outputs": [],
   "source": [
    "# Fill Missing Elements\n",
    "def fillMissingValues():\n",
    "    movies.fillna({\"homepage\": -1}, inplace=True)\n",
    "    movies.fillna({\"overview\": -1}, inplace=True)\n",
    "    movies.fillna({\"release_date\": -1}, inplace=True)\n",
    "    movies.fillna({\"runtime\": -1}, inplace=True)\n",
    "    movies.fillna({\"tagline\": -1}, inplace=True)\n",
    "fillMissingValues()"
   ]
  },
  {
   "cell_type": "markdown",
   "id": "48738074",
   "metadata": {},
   "source": [
    "- Shows removed null fields"
   ]
  },
  {
   "cell_type": "code",
   "execution_count": 10,
   "id": "18ed18ed",
   "metadata": {},
   "outputs": [
    {
     "name": "stdout",
     "output_type": "stream",
     "text": [
      "budget                  0\n",
      "genres                  0\n",
      "homepage                0\n",
      "id                      0\n",
      "keywords                0\n",
      "original_language       0\n",
      "original_title          0\n",
      "overview                0\n",
      "popularity              0\n",
      "production_companies    0\n",
      "production_countries    0\n",
      "release_date            0\n",
      "revenue                 0\n",
      "runtime                 0\n",
      "spoken_languages        0\n",
      "status                  0\n",
      "tagline                 0\n",
      "title                   0\n",
      "vote_average            0\n",
      "vote_count              0\n",
      "movie_id                0\n",
      "cast                    0\n",
      "crew                    0\n",
      "dtype: int64\n"
     ]
    }
   ],
   "source": [
    "# Update Missing Elements\n",
    "def printMoviesIsNull():\n",
    "    print(movies.isnull().sum())\n",
    "printMoviesIsNull()"
   ]
  },
  {
   "cell_type": "markdown",
   "id": "60b89a62",
   "metadata": {},
   "source": [
    "# Find Duplicate Fields\n",
    "- As stated above, the merge of the datasets may lead to duplicated fields.\n",
    "- Therefore, to achieve atomic data it is best to remove duplicate fields before the analysis stage.\n",
    "- To find these fields the most important features for the identified film was used to find duplicates."
   ]
  },
  {
   "cell_type": "code",
   "execution_count": 11,
   "id": "1cbe1cf6",
   "metadata": {},
   "outputs": [
    {
     "name": "stdout",
     "output_type": "stream",
     "text": [
      "Movie Duplicates:  Empty DataFrame\n",
      "Columns: [budget, genres, homepage, id, keywords, original_language, original_title, overview, popularity, production_companies, production_countries, release_date, revenue, runtime, spoken_languages, status, tagline, title, vote_average, vote_count, movie_id, cast, crew]\n",
      "Index: []\n",
      "\n",
      "[0 rows x 23 columns]\n"
     ]
    }
   ],
   "source": [
    "# Find Duplicated Items and Insert into DataFrame\n",
    "def duplicateField():\n",
    "    key_fields_movies = [\"original_title\", \"release_date\", \"title\", \"title\", \"cast\", \"crew\"]\n",
    "    \n",
    "    duplicate_records_movies = movies[movies.duplicated(subset=key_fields_movies, keep=False)]\n",
    "    print('Movie Duplicates: ', duplicate_records_movies)\n",
    "duplicateField()"
   ]
  },
  {
   "cell_type": "code",
   "execution_count": 12,
   "id": "e5d4b249",
   "metadata": {},
   "outputs": [
    {
     "name": "stdout",
     "output_type": "stream",
     "text": [
      "budget                  0\n",
      "genres                  0\n",
      "homepage                0\n",
      "id                      0\n",
      "keywords                0\n",
      "original_language       0\n",
      "original_title          0\n",
      "overview                0\n",
      "popularity              0\n",
      "production_companies    0\n",
      "production_countries    0\n",
      "release_date            0\n",
      "revenue                 0\n",
      "runtime                 0\n",
      "spoken_languages        0\n",
      "status                  0\n",
      "tagline                 0\n",
      "title                   0\n",
      "vote_average            0\n",
      "vote_count              0\n",
      "movie_id                0\n",
      "cast                    0\n",
      "crew                    0\n",
      "dtype: int64\n",
      "<class 'pandas.core.frame.DataFrame'>\n",
      "Int64Index: 4809 entries, 0 to 4808\n",
      "Data columns (total 23 columns):\n",
      " #   Column                Non-Null Count  Dtype  \n",
      "---  ------                --------------  -----  \n",
      " 0   budget                4809 non-null   int64  \n",
      " 1   genres                4809 non-null   object \n",
      " 2   homepage              4809 non-null   object \n",
      " 3   id                    4809 non-null   int64  \n",
      " 4   keywords              4809 non-null   object \n",
      " 5   original_language     4809 non-null   object \n",
      " 6   original_title        4809 non-null   object \n",
      " 7   overview              4809 non-null   object \n",
      " 8   popularity            4809 non-null   float64\n",
      " 9   production_companies  4809 non-null   object \n",
      " 10  production_countries  4809 non-null   object \n",
      " 11  release_date          4809 non-null   object \n",
      " 12  revenue               4809 non-null   int64  \n",
      " 13  runtime               4809 non-null   float64\n",
      " 14  spoken_languages      4809 non-null   object \n",
      " 15  status                4809 non-null   object \n",
      " 16  tagline               4809 non-null   object \n",
      " 17  title                 4809 non-null   object \n",
      " 18  vote_average          4809 non-null   float64\n",
      " 19  vote_count            4809 non-null   int64  \n",
      " 20  movie_id              4809 non-null   int64  \n",
      " 21  cast                  4809 non-null   object \n",
      " 22  crew                  4809 non-null   object \n",
      "dtypes: float64(3), int64(5), object(15)\n",
      "memory usage: 901.7+ KB\n",
      "None\n"
     ]
    }
   ],
   "source": [
    "# Double Check Nullability of DataFrame\n",
    "def printIsNull():\n",
    "    print(movies.isnull().sum())\n",
    "    print(movies.info())\n",
    "printIsNull()"
   ]
  },
  {
   "cell_type": "code",
   "execution_count": 13,
   "id": "320c0a19",
   "metadata": {},
   "outputs": [
    {
     "name": "stdout",
     "output_type": "stream",
     "text": [
      "(4809, 23)\n"
     ]
    }
   ],
   "source": [
    "# Print Shape of Dataset for validity\n",
    "print(movies.shape)"
   ]
  },
  {
   "cell_type": "markdown",
   "id": "bb0eb6a1",
   "metadata": {},
   "source": [
    "# Conversion of Column Data\n",
    "- Check relevant columns and investigate changes into more searchable and resultant data\n",
    "- Check data types for visualisation stages are relevant\n",
    "- Reduce the size of the dataset"
   ]
  },
  {
   "cell_type": "code",
   "execution_count": 14,
   "id": "5d14ab84",
   "metadata": {},
   "outputs": [
    {
     "name": "stdout",
     "output_type": "stream",
     "text": [
      "object\n",
      "0    2009-12-10\n",
      "Name: release_date, dtype: object\n"
     ]
    }
   ],
   "source": [
    "# Observe what the data type of release_date\n",
    "def printUpdatedReleaseDate():\n",
    "    print(movies.head(1)['release_date'].dtype)\n",
    "    print(movies.head(1)['release_date'])\n",
    "printUpdatedReleaseDate()"
   ]
  },
  {
   "cell_type": "code",
   "execution_count": 15,
   "id": "f3c42e8e",
   "metadata": {},
   "outputs": [],
   "source": [
    "# Object could influence the use of a string rather than datetime dtype\n",
    "movies[\"release_date\"] = movies[\"release_date\"].apply(lambda x: [str(x)[:4]])"
   ]
  },
  {
   "cell_type": "code",
   "execution_count": 16,
   "id": "8d5b60a7",
   "metadata": {},
   "outputs": [
    {
     "name": "stdout",
     "output_type": "stream",
     "text": [
      "object\n",
      "0    [2009]\n",
      "Name: release_date, dtype: object\n"
     ]
    }
   ],
   "source": [
    "printUpdatedReleaseDate()"
   ]
  },
  {
   "cell_type": "code",
   "execution_count": 17,
   "id": "56ddadd1",
   "metadata": {},
   "outputs": [
    {
     "name": "stdout",
     "output_type": "stream",
     "text": [
      "0    [{\"id\": 28, \"name\": \"Action\"}, {\"id\": 12, \"nam...\n",
      "1    [{\"id\": 12, \"name\": \"Adventure\"}, {\"id\": 14, \"...\n",
      "2    [{\"id\": 28, \"name\": \"Action\"}, {\"id\": 12, \"nam...\n",
      "3    [{\"id\": 28, \"name\": \"Action\"}, {\"id\": 80, \"nam...\n",
      "4    [{\"id\": 28, \"name\": \"Action\"}, {\"id\": 12, \"nam...\n",
      "Name: genres, dtype: object\n"
     ]
    }
   ],
   "source": [
    "# Genres is a long column\n",
    "def printGenres():\n",
    "    print(movies[\"genres\"].head(5))\n",
    "printGenres()"
   ]
  },
  {
   "cell_type": "markdown",
   "id": "14959509",
   "metadata": {},
   "source": [
    "- Use literal evaluation to pull all the name columns out of genre column.\n",
    "- Append the genre names to a list and return.\n",
    "- Id columns are not relevant in current dataset so therefore can be reduced."
   ]
  },
  {
   "cell_type": "code",
   "execution_count": 18,
   "id": "dc46f15d",
   "metadata": {},
   "outputs": [],
   "source": [
    "# Literal evaluation to Reduce Column\n",
    "import ast\n",
    "\n",
    "def convert_to_name(object):\n",
    "    arr = []\n",
    "    for i in ast.literal_eval(object):\n",
    "        arr.append(i[\"name\"])\n",
    "    return arr"
   ]
  },
  {
   "cell_type": "code",
   "execution_count": 19,
   "id": "5b069bd9",
   "metadata": {},
   "outputs": [],
   "source": [
    "# Genre updated by applying function to genre items\n",
    "movies[\"genres\"] = movies[\"genres\"].apply(convert_to_name)"
   ]
  },
  {
   "cell_type": "code",
   "execution_count": 20,
   "id": "95d4d193",
   "metadata": {},
   "outputs": [
    {
     "name": "stdout",
     "output_type": "stream",
     "text": [
      "0    [Action, Adventure, Fantasy, Science Fiction]\n",
      "1                     [Adventure, Fantasy, Action]\n",
      "2                       [Action, Adventure, Crime]\n",
      "3                 [Action, Crime, Drama, Thriller]\n",
      "4             [Action, Adventure, Science Fiction]\n",
      "Name: genres, dtype: object\n"
     ]
    }
   ],
   "source": [
    "# Check Column Update\n",
    "printGenres()"
   ]
  },
  {
   "cell_type": "code",
   "execution_count": 21,
   "id": "b567a5e1",
   "metadata": {},
   "outputs": [
    {
     "name": "stdout",
     "output_type": "stream",
     "text": [
      "0    [{\"id\": 1463, \"name\": \"culture clash\"}, {\"id\":...\n",
      "1    [{\"id\": 270, \"name\": \"ocean\"}, {\"id\": 726, \"na...\n",
      "2    [{\"id\": 470, \"name\": \"spy\"}, {\"id\": 818, \"name...\n",
      "3    [{\"id\": 849, \"name\": \"dc comics\"}, {\"id\": 853,...\n",
      "4    [{\"id\": 818, \"name\": \"based on novel\"}, {\"id\":...\n",
      "Name: keywords, dtype: object\n"
     ]
    }
   ],
   "source": [
    "# Check Column \n",
    "def printKeywords():\n",
    "    print(movies.head(5)[\"keywords\"])\n",
    "printKeywords()"
   ]
  },
  {
   "cell_type": "code",
   "execution_count": 22,
   "id": "32c9633f",
   "metadata": {},
   "outputs": [],
   "source": [
    "# Literal Evaluation on Keyword Column\n",
    "movies[\"keywords\"] = movies[\"keywords\"].apply(convert_to_name)"
   ]
  },
  {
   "cell_type": "code",
   "execution_count": 23,
   "id": "c4ffb336",
   "metadata": {},
   "outputs": [
    {
     "name": "stdout",
     "output_type": "stream",
     "text": [
      "0    [culture clash, future, space war, space colon...\n",
      "1    [ocean, drug abuse, exotic island, east india ...\n",
      "2    [spy, based on novel, secret agent, sequel, mi...\n",
      "3    [dc comics, crime fighter, terrorist, secret i...\n",
      "4    [based on novel, mars, medallion, space travel...\n",
      "Name: keywords, dtype: object\n"
     ]
    }
   ],
   "source": [
    "\n",
    "# Check literal evaluation update on Keywords\n",
    "printKeywords()"
   ]
  },
  {
   "cell_type": "code",
   "execution_count": 24,
   "id": "bae0ced0",
   "metadata": {},
   "outputs": [
    {
     "name": "stdout",
     "output_type": "stream",
     "text": [
      "0    [{\"cast_id\": 242, \"character\": \"Jake Sully\", \"...\n",
      "1    [{\"cast_id\": 4, \"character\": \"Captain Jack Spa...\n",
      "2    [{\"cast_id\": 1, \"character\": \"James Bond\", \"cr...\n",
      "3    [{\"cast_id\": 2, \"character\": \"Bruce Wayne / Ba...\n",
      "4    [{\"cast_id\": 5, \"character\": \"John Carter\", \"c...\n",
      "Name: cast, dtype: object\n"
     ]
    }
   ],
   "source": [
    "def printCast():\n",
    "    print(movies.head(5)[\"cast\"])\n",
    "printCast()"
   ]
  },
  {
   "cell_type": "markdown",
   "id": "44db622a",
   "metadata": {},
   "source": [
    "- To reduce cast column, lets take the first four cast members to reduce this column.\n",
    "- Then return the updated list for each column."
   ]
  },
  {
   "cell_type": "code",
   "execution_count": 25,
   "id": "c3447205",
   "metadata": {},
   "outputs": [],
   "source": [
    "# Extracts 4 names to reduce the column and appends to List\n",
    "def convert_name_count(object):\n",
    "    arr, count = [], 0\n",
    "    for i in ast.literal_eval(object):\n",
    "        if count != 4:\n",
    "            arr.append(i[\"name\"])\n",
    "            count += 1\n",
    "        else:\n",
    "            break     \n",
    "    return arr"
   ]
  },
  {
   "cell_type": "code",
   "execution_count": 26,
   "id": "1c7fa404",
   "metadata": {},
   "outputs": [],
   "source": [
    "# Literal Evaluation Application\n",
    "movies[\"cast\"] = movies[\"cast\"].apply(convert_name_count)"
   ]
  },
  {
   "cell_type": "code",
   "execution_count": 27,
   "id": "b0a1776e",
   "metadata": {},
   "outputs": [
    {
     "name": "stdout",
     "output_type": "stream",
     "text": [
      "0    [Sam Worthington, Zoe Saldana, Sigourney Weave...\n",
      "1    [Johnny Depp, Orlando Bloom, Keira Knightley, ...\n",
      "2    [Daniel Craig, Christoph Waltz, Léa Seydoux, R...\n",
      "3    [Christian Bale, Michael Caine, Gary Oldman, A...\n",
      "4    [Taylor Kitsch, Lynn Collins, Samantha Morton,...\n",
      "Name: cast, dtype: object\n"
     ]
    }
   ],
   "source": [
    "# Check Literal Evaluation\n",
    "printCast()"
   ]
  },
  {
   "cell_type": "code",
   "execution_count": 28,
   "id": "440b96c9",
   "metadata": {},
   "outputs": [
    {
     "name": "stdout",
     "output_type": "stream",
     "text": [
      "0    [{\"credit_id\": \"52fe48009251416c750aca23\", \"de...\n",
      "1    [{\"credit_id\": \"52fe4232c3a36847f800b579\", \"de...\n",
      "2    [{\"credit_id\": \"54805967c3a36829b5002c41\", \"de...\n",
      "3    [{\"credit_id\": \"52fe4781c3a36847f81398c3\", \"de...\n",
      "4    [{\"credit_id\": \"52fe479ac3a36847f813eaa3\", \"de...\n",
      "Name: crew, dtype: object\n"
     ]
    }
   ],
   "source": [
    "# Check crew field\n",
    "def printCrew():\n",
    "    print(movies.head(5)[\"crew\"])\n",
    "printCrew()"
   ]
  },
  {
   "cell_type": "markdown",
   "id": "6197c952",
   "metadata": {},
   "source": [
    "- From the crew column, the director is the most important field.\n",
    "- Therefore, abstraction has taken place."
   ]
  },
  {
   "cell_type": "code",
   "execution_count": 29,
   "id": "a3a8f279",
   "metadata": {},
   "outputs": [],
   "source": [
    "# Director is the main part of the crew field\n",
    "def fetch_director(obj):\n",
    "    L = []\n",
    "    for i in ast.literal_eval(obj):\n",
    "        if i[\"job\"] == \"Director\":\n",
    "            L.append(i[\"name\"])\n",
    "            break\n",
    "            \n",
    "    return L"
   ]
  },
  {
   "cell_type": "code",
   "execution_count": 30,
   "id": "17e23ae8",
   "metadata": {},
   "outputs": [],
   "source": [
    "# Director is set as crew column\n",
    "movies[\"crew\"] = movies[\"crew\"].apply(fetch_director)"
   ]
  },
  {
   "cell_type": "code",
   "execution_count": 31,
   "id": "7c38820b",
   "metadata": {},
   "outputs": [
    {
     "name": "stdout",
     "output_type": "stream",
     "text": [
      "0        [James Cameron]\n",
      "1       [Gore Verbinski]\n",
      "2           [Sam Mendes]\n",
      "3    [Christopher Nolan]\n",
      "4       [Andrew Stanton]\n",
      "Name: crew, dtype: object\n"
     ]
    }
   ],
   "source": [
    "printCrew()"
   ]
  },
  {
   "cell_type": "markdown",
   "id": "80992d56",
   "metadata": {},
   "source": [
    "- Investigating production_companies and spoken_languages.\n",
    "- To reduce this section, remove the ids from the dictionary and return the list."
   ]
  },
  {
   "cell_type": "code",
   "execution_count": 32,
   "id": "0266093a",
   "metadata": {},
   "outputs": [
    {
     "name": "stdout",
     "output_type": "stream",
     "text": [
      "0    [{\"name\": \"Ingenious Film Partners\", \"id\": 289...\n",
      "1    [{\"name\": \"Walt Disney Pictures\", \"id\": 2}, {\"...\n",
      "2    [{\"name\": \"Columbia Pictures\", \"id\": 5}, {\"nam...\n",
      "3    [{\"name\": \"Legendary Pictures\", \"id\": 923}, {\"...\n",
      "4          [{\"name\": \"Walt Disney Pictures\", \"id\": 2}]\n",
      "Name: production_companies, dtype: object\n"
     ]
    }
   ],
   "source": [
    "def printProductionCompany():\n",
    "    print(movies.head(5)[\"production_companies\"])\n",
    "printProductionCompany()"
   ]
  },
  {
   "cell_type": "code",
   "execution_count": 33,
   "id": "c01c7849",
   "metadata": {},
   "outputs": [],
   "source": [
    "# Production Company column reduction\n",
    "movies[\"production_companies\"] = movies[\"production_companies\"].apply(convert_to_name)"
   ]
  },
  {
   "cell_type": "code",
   "execution_count": 34,
   "id": "a5107702",
   "metadata": {},
   "outputs": [
    {
     "name": "stdout",
     "output_type": "stream",
     "text": [
      "0    [Ingenious Film Partners, Twentieth Century Fo...\n",
      "1    [Walt Disney Pictures, Jerry Bruckheimer Films...\n",
      "2                     [Columbia Pictures, Danjaq, B24]\n",
      "3    [Legendary Pictures, Warner Bros., DC Entertai...\n",
      "4                               [Walt Disney Pictures]\n",
      "Name: production_companies, dtype: object\n"
     ]
    }
   ],
   "source": [
    "printProductionCompany()"
   ]
  },
  {
   "cell_type": "code",
   "execution_count": 35,
   "id": "f536b3bc",
   "metadata": {},
   "outputs": [
    {
     "name": "stdout",
     "output_type": "stream",
     "text": [
      "0    [{\"iso_639_1\": \"en\", \"name\": \"English\"}, {\"iso...\n",
      "1             [{\"iso_639_1\": \"en\", \"name\": \"English\"}]\n",
      "2    [{\"iso_639_1\": \"fr\", \"name\": \"Fran\\u00e7ais\"},...\n",
      "3             [{\"iso_639_1\": \"en\", \"name\": \"English\"}]\n",
      "4             [{\"iso_639_1\": \"en\", \"name\": \"English\"}]\n",
      "Name: spoken_languages, dtype: object\n"
     ]
    }
   ],
   "source": [
    "def printSpokenLanguages():\n",
    "    print(movies.head()[\"spoken_languages\"])\n",
    "printSpokenLanguages()"
   ]
  },
  {
   "cell_type": "code",
   "execution_count": 36,
   "id": "d79a9166",
   "metadata": {},
   "outputs": [],
   "source": [
    "movies[\"spoken_languages\"] = movies[\"spoken_languages\"].apply(convert_name_count)"
   ]
  },
  {
   "cell_type": "code",
   "execution_count": 37,
   "id": "6ebea1fb",
   "metadata": {},
   "outputs": [
    {
     "name": "stdout",
     "output_type": "stream",
     "text": [
      "0                        [English, Español]\n",
      "1                                 [English]\n",
      "2    [Français, English, Español, Italiano]\n",
      "3                                 [English]\n",
      "4                                 [English]\n",
      "Name: spoken_languages, dtype: object\n"
     ]
    }
   ],
   "source": [
    "printSpokenLanguages()"
   ]
  },
  {
   "cell_type": "markdown",
   "id": "e7266175",
   "metadata": {},
   "source": [
    "- To benefit our statistics in the visualisation stage;\n",
    "    - Best not to evaluate any movies that have not been released yet.\n",
    "    - Since they are not released, no one can watch them and therefore should not be recommended in our system."
   ]
  },
  {
   "cell_type": "code",
   "execution_count": 38,
   "id": "c8c06f16",
   "metadata": {},
   "outputs": [
    {
     "name": "stdout",
     "output_type": "stream",
     "text": [
      "<bound method DataFrame.info of        budget                             genres  \\\n",
      "2911        0                   [Drama, Romance]   \n",
      "4176  1900000                            [Drama]   \n",
      "4185  2000000                  [Drama, Thriller]   \n",
      "4407        0  [Action, Comedy, Science Fiction]   \n",
      "4459        0          [Comedy, Drama, Thriller]   \n",
      "4514    56000                      [Documentary]   \n",
      "4668        0                           [Comedy]   \n",
      "4760        0            [Drama, Comedy, Family]   \n",
      "\n",
      "                                         homepage      id  \\\n",
      "2911  https://www.facebook.com/eastsidestorymovie  357837   \n",
      "4176                                           -1  295886   \n",
      "4185    http://www.sonyclassics.com/higherground/   50875   \n",
      "4407                                           -1   43630   \n",
      "4459                                           -1   57294   \n",
      "4514       http://www.facebook.com/theharvestfilm   70875   \n",
      "4668                                           -1   40963   \n",
      "4760                                           -1   84659   \n",
      "\n",
      "                                               keywords original_language  \\\n",
      "2911  [dancing, competition, hotel, florida, dance t...                cs   \n",
      "4176                                                 []                en   \n",
      "4185  [baby, wife husband relationship, christian, f...                en   \n",
      "4407                                                 []                en   \n",
      "4459  [kidnapping, stand-up comedy, dark comedy, nig...                en   \n",
      "4514  [migration, immigration, agriculture, food, hu...                en   \n",
      "4668                                 [independent film]                en   \n",
      "4760                                                 []                en   \n",
      "\n",
      "                original_title  \\\n",
      "2911           Dancin' It's On   \n",
      "4176            Brotherly Love   \n",
      "4185             Higher Ground   \n",
      "4407       The Helix... Loaded   \n",
      "4459      Crying with Laughter   \n",
      "4514  The Harvest (La Cosecha)   \n",
      "4668            Little Big Top   \n",
      "4760             The Naked Ape   \n",
      "\n",
      "                                               overview  popularity  \\\n",
      "2911  This coming of age Dance Film, in the spirit o...    0.186234   \n",
      "4176  West Philadelphia basketball star Sergio Taylo...    1.367751   \n",
      "4185  A chronicle of one woman's lifelong struggle w...    1.699101   \n",
      "4407                                                       0.020600   \n",
      "4459  Powerfully redemptive and darkly comedic reven...    0.108135   \n",
      "4514  The story of the children who work 12-14 hour ...    0.010909   \n",
      "4668  An aging out of work clown returns to his smal...    0.092100   \n",
      "4760  The Naked Ape is a coming-of-age film followin...    0.077577   \n",
      "\n",
      "                                   production_companies  ... runtime  \\\n",
      "2911                                                 []  ...    89.0   \n",
      "4176                                                 []  ...    89.0   \n",
      "4185                                                 []  ...   109.0   \n",
      "4407                                                 []  ...    97.0   \n",
      "4459  [Scottish Screen, EM Media, BBC Scotland, Sync...  ...    93.0   \n",
      "4514                                                 []  ...    80.0   \n",
      "4668                                   [Fly High Films]  ...     0.0   \n",
      "4760                                                 []  ...   110.0   \n",
      "\n",
      "     spoken_languages           status                                tagline  \\\n",
      "2911        [English]  Post Production  Dancin' Like You've Never Seen Before   \n",
      "4176        [English]  Post Production                                     -1   \n",
      "4185        [English]  Post Production                                     -1   \n",
      "4407        [English]          Rumored                                     -1   \n",
      "4459        [English]          Rumored            A Bad Trip Down Memory Lane   \n",
      "4514               []          Rumored                                     -1   \n",
      "4668        [English]          Rumored                                     -1   \n",
      "4760               []          Rumored                                     -1   \n",
      "\n",
      "                         title vote_average vote_count movie_id  \\\n",
      "2911           Dancin' It's On          4.3          2   357837   \n",
      "4176            Brotherly Love          6.9         21   295886   \n",
      "4185             Higher Ground          5.3         14    50875   \n",
      "4407       The Helix... Loaded          4.8          2    43630   \n",
      "4459      Crying with Laughter          7.0          1    57294   \n",
      "4514  The Harvest (La Cosecha)          0.0          0    70875   \n",
      "4668            Little Big Top         10.0          1    40963   \n",
      "4760             The Naked Ape          5.0          1    84659   \n",
      "\n",
      "                                                   cast                 crew  \n",
      "2911  [Witney Carson, Chehon Wespi-Tschopp, Gary Dan...      [David Winters]  \n",
      "4176  [Keke Palmer, Cory Hardrict, Eric D. Hill Jr.,...         [Jamal Hill]  \n",
      "4185  [Vera Farmiga, Donna Murphy, Dagmara Domińczyk...       [Vera Farmiga]  \n",
      "4407                                                 []                   []  \n",
      "4459  [Stephen McCole, Malcolm Shields, Andrew Neil,...  [Justin Molotnikov]  \n",
      "4514                                                 []  [U. Roberto Romano]  \n",
      "4668  [Sid Haig, Richard Riehle, Mel England, Jacob ...                   []  \n",
      "4760  [Josh Wise, Chelse Swain, Sean Shanks, Amanda ...     [Daniel Mellitz]  \n",
      "\n",
      "[8 rows x 23 columns]>\n"
     ]
    }
   ],
   "source": [
    "# Check Not Released Films (Cannot Recommend a Film not Released)\n",
    "def checkNotReleased():\n",
    "    filtered_movies = movies[movies['status'] != 'Released']\n",
    "    print(filtered_movies.info)\n",
    "checkNotReleased()"
   ]
  },
  {
   "cell_type": "code",
   "execution_count": 39,
   "id": "c93e9164",
   "metadata": {},
   "outputs": [],
   "source": [
    "# Remove anything that is not released (4809 Movies Before)\n",
    "movies = movies[movies['status'] == 'Released']"
   ]
  },
  {
   "cell_type": "code",
   "execution_count": 40,
   "id": "662c7618",
   "metadata": {},
   "outputs": [
    {
     "name": "stdout",
     "output_type": "stream",
     "text": [
      "(4801, 23)\n"
     ]
    }
   ],
   "source": [
    "print(movies.shape)"
   ]
  },
  {
   "cell_type": "code",
   "execution_count": null,
   "id": "b047a37e",
   "metadata": {},
   "outputs": [],
   "source": [
    "movies.head(5)"
   ]
  },
  {
   "cell_type": "markdown",
   "id": "c8fd8ba2",
   "metadata": {},
   "source": [
    "- Store the variable to use in visualisation and EDA"
   ]
  },
  {
   "cell_type": "code",
   "execution_count": 41,
   "id": "c9046579",
   "metadata": {},
   "outputs": [
    {
     "name": "stdout",
     "output_type": "stream",
     "text": [
      "Stored 'movies' (DataFrame)\n"
     ]
    }
   ],
   "source": [
    "%store movies"
   ]
  }
 ],
 "metadata": {
  "kernelspec": {
   "display_name": "Python 3 (ipykernel)",
   "language": "python",
   "name": "python3"
  },
  "language_info": {
   "codemirror_mode": {
    "name": "ipython",
    "version": 3
   },
   "file_extension": ".py",
   "mimetype": "text/x-python",
   "name": "python",
   "nbconvert_exporter": "python",
   "pygments_lexer": "ipython3",
   "version": "3.9.13"
  }
 },
 "nbformat": 4,
 "nbformat_minor": 5
}
