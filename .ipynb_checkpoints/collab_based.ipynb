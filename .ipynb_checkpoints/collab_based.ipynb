{
 "cells": [
  {
   "cell_type": "code",
   "execution_count": 3,
   "metadata": {},
   "outputs": [],
   "source": [
    "%store -r movies\n",
    "%store -r ratings_df"
   ]
  },
  {
   "cell_type": "markdown",
   "metadata": {},
   "source": [
    "- Obtain Preprocessed Movie Data from 'preprocessing.ipynb'\n",
    "- Obtain Preprocessed Ratings_DF from 'preprocessing_users.ipyn'\n",
    "- Thus for encorporation within the content_filtering form and the collaborative"
   ]
  },
  {
   "cell_type": "code",
   "execution_count": 4,
   "metadata": {},
   "outputs": [
    {
     "name": "stdout",
     "output_type": "stream",
     "text": [
      "userId_x  3       4       12      44      57      71      91      93      \\\n",
      "userId_x                                                                   \n",
      "3            1.0     0.0     0.0     0.0     0.0     0.0     0.0     0.0   \n",
      "4            0.0     1.0     0.0     0.0     0.0     0.0     0.0     0.0   \n",
      "12           0.0     0.0     1.0     0.0     0.0     0.0     0.0     0.0   \n",
      "44           0.0     0.0     0.0     1.0     0.0     0.0     0.0     0.0   \n",
      "57           0.0     0.0     0.0     0.0     1.0     0.0     0.0     0.0   \n",
      "...          ...     ...     ...     ...     ...     ...     ...     ...   \n",
      "162508       0.0     0.0     0.0     0.0     0.0     0.0     0.0     0.0   \n",
      "162516       0.0     0.0     0.0     0.0     0.0     0.0     0.0     0.0   \n",
      "162521       0.0     0.0     0.0     0.0     0.0     0.0     0.0     0.0   \n",
      "162526       0.0     0.0     0.0     0.0     0.0     0.0     0.0     0.0   \n",
      "162534       0.0     0.0     0.0     0.0     0.0     0.0     0.0     0.0   \n",
      "\n",
      "userId_x  98      101     ...  162467  162482  162495  162500  162501  162508  \\\n",
      "userId_x                  ...                                                   \n",
      "3            0.0     0.0  ...     0.0     0.0     0.0     0.0     0.0     0.0   \n",
      "4            0.0     0.0  ...     0.0     0.0     0.0     0.0     0.0     0.0   \n",
      "12           0.0     0.0  ...     0.0     0.0     0.0     0.0     0.0     0.0   \n",
      "44           0.0     0.0  ...     0.0     0.0     0.0     0.0     0.0     0.0   \n",
      "57           0.0     0.0  ...     0.0     0.0     0.0     0.0     0.0     0.0   \n",
      "...          ...     ...  ...     ...     ...     ...     ...     ...     ...   \n",
      "162508       0.0     0.0  ...     0.0     0.0     0.0     0.0     0.0     1.0   \n",
      "162516       0.0     0.0  ...     0.0     0.0     0.0     0.0     0.0     0.0   \n",
      "162521       0.0     0.0  ...     0.0     0.0     0.0     0.0     0.0     0.0   \n",
      "162526       0.0     0.0  ...     0.0     0.0     0.0     0.0     0.0     0.0   \n",
      "162534       0.0     0.0  ...     0.0     0.0     0.0     0.0     0.0     0.0   \n",
      "\n",
      "userId_x  162516  162521  162526  162534  \n",
      "userId_x                                  \n",
      "3            0.0     0.0     0.0     0.0  \n",
      "4            0.0     0.0     0.0     0.0  \n",
      "12           0.0     0.0     0.0     0.0  \n",
      "44           0.0     0.0     0.0     0.0  \n",
      "57           0.0     0.0     0.0     0.0  \n",
      "...          ...     ...     ...     ...  \n",
      "162508       0.0     0.0     0.0     0.0  \n",
      "162516       1.0     0.0     0.0     0.0  \n",
      "162521       0.0     1.0     0.0     0.0  \n",
      "162526       0.0     0.0     1.0     0.0  \n",
      "162534       0.0     0.0     0.0     1.0  \n",
      "\n",
      "[15765 rows x 15765 columns]\n"
     ]
    }
   ],
   "source": [
    "from sklearn.metrics.pairwise import cosine_similarity\n",
    "import pandas as pd\n",
    "\n",
    "# Pivot the ratings DataFrame to create a user-item matrix\n",
    "user_movie_matrix = ratings_df.pivot_table(values='rating', index='userId_x', columns='original_title', fill_value=0)\n",
    "\n",
    "# Calculate cosine similarity matrix between users\n",
    "user_similarity_matrix = cosine_similarity(user_movie_matrix)\n",
    "\n",
    "# Convert the similarity matrix into a DataFrame for better visualization\n",
    "user_similarity_df = pd.DataFrame(user_similarity_matrix, index=user_movie_matrix.index, columns=user_movie_matrix.index)\n",
    "\n",
    "# Display the user similarity matrix\n",
    "print(user_similarity_df)"
   ]
  },
  {
   "cell_type": "code",
   "execution_count": 21,
   "metadata": {},
   "outputs": [
    {
     "name": "stdout",
     "output_type": "stream",
     "text": [
      "Similarity scores for user 3\n",
      "userId_x\n",
      "3         1.0\n",
      "4         0.0\n",
      "12        0.0\n",
      "44        0.0\n",
      "57        0.0\n",
      "         ... \n",
      "162508    0.0\n",
      "162516    0.0\n",
      "162521    0.0\n",
      "162526    0.0\n",
      "162534    0.0\n",
      "Name: 3, Length: 15765, dtype: float64\n"
     ]
    }
   ],
   "source": [
    "user_id = 3  # Assuming user 3\n",
    "\n",
    "# Retrieve similarity scores for user 3 from the user similarity matrix\n",
    "user_similarity_scores = user_similarity_df.loc[user_id]\n",
    "\n",
    "# Display similarity scores for user 3 with all other users\n",
    "print(\"Similarity scores for user\", user_id)\n",
    "print(user_similarity_scores)"
   ]
  },
  {
   "cell_type": "markdown",
   "metadata": {},
   "source": [
    "- Obtain a user matrix by pivoting the ratings_df and using the ratings values and titles of films to find similarities\n",
    "- Similarities are indicated by a given value above 0\n",
    "- Non-Similar users are indicated by a 0.0 value"
   ]
  },
  {
   "cell_type": "code",
   "execution_count": 13,
   "metadata": {},
   "outputs": [
    {
     "name": "stdout",
     "output_type": "stream",
     "text": [
      "Index(['$9.99', ''71', ''Hellboy': The Seeds of Creation', ''Round Midnight',\n",
      "       ''Salem's Lot', ''burbs, The', '(500) Days of Summer', '(Girl)Friend',\n",
      "       '(Untitled)', '*batteries not included',\n",
      "       ...\n",
      "       'Zoolander 2', 'Zootopia', 'Zorba the Greek (Alexis Zorbas)',\n",
      "       'Zu: Warriors from the Magic Mountain (Xin shu shan jian ke)', '[REC]',\n",
      "       'eXistenZ', 'xXx', 'xXx: Return of Xander Cage',\n",
      "       'xXx: State of the Union', '¡Three Amigos!'],\n",
      "      dtype='object', name='original_title', length=7523)\n"
     ]
    }
   ],
   "source": [
    "print(user_movie_matrix.columns)"
   ]
  },
  {
   "cell_type": "markdown",
   "metadata": {},
   "source": [
    "- Displays the columns used to obtain similarities"
   ]
  }
 ],
 "metadata": {
  "kernelspec": {
   "display_name": "base",
   "language": "python",
   "name": "python3"
  },
  "language_info": {
   "codemirror_mode": {
    "name": "ipython",
    "version": 3
   },
   "file_extension": ".py",
   "mimetype": "text/x-python",
   "name": "python",
   "nbconvert_exporter": "python",
   "pygments_lexer": "ipython3",
   "version": "3.9.13"
  }
 },
 "nbformat": 4,
 "nbformat_minor": 2
}
